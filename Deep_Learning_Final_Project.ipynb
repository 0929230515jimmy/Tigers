{
  "nbformat": 4,
  "nbformat_minor": 0,
  "metadata": {
    "colab": {
      "provenance": [],
      "include_colab_link": true
    },
    "kernelspec": {
      "name": "python3",
      "display_name": "Python 3"
    },
    "language_info": {
      "name": "python"
    }
  },
  "cells": [
    {
      "cell_type": "markdown",
      "metadata": {
        "id": "view-in-github",
        "colab_type": "text"
      },
      "source": [
        "<a href=\"https://colab.research.google.com/github/0929230515jimmy/Tigers/blob/main/Deep_Learning_Final_Project.ipynb\" target=\"_parent\"><img src=\"https://colab.research.google.com/assets/colab-badge.svg\" alt=\"Open In Colab\"/></a>"
      ]
    },
    {
      "cell_type": "markdown",
      "source": [
        "## Loading Libraries and Data\n"
      ],
      "metadata": {
        "id": "Epn_hBp9ckmh"
      }
    },
    {
      "cell_type": "code",
      "source": [
        "# Importing Libraries\n",
        "import pandas as pd\n",
        "import numpy as np\n",
        "from sklearn.utils.class_weight import compute_class_weight\n",
        "from sklearn.metrics import accuracy_score\n",
        "from sklearn.datasets import fetch_lfw_people\n",
        "from sklearn.decomposition import PCA\n",
        "from sklearn.model_selection import train_test_split\n",
        "import tensorflow\n",
        "from tensorflow.keras.models import Model\n",
        "from tensorflow.keras.layers import Input, Dense, Activation, Conv2D, MaxPool2D, AveragePooling2D, Flatten, Dropout, BatchNormalization\n",
        "from tensorflow.keras.optimizers import SGD, RMSprop, Adam\n",
        "import matplotlib.pyplot as plt\n",
        "from imblearn.over_sampling import SMOTE\n",
        "from sklearn.model_selection import train_test_split\n",
        "from sklearn.preprocessing import LabelEncoder\n",
        "from tensorflow.keras.models import Sequential\n",
        "import matplotlib.pyplot as plt\n",
        "from keras.layers import Dense, Conv1D, MaxPooling1D, Flatten\n",
        "\n",
        "\n",
        "\n",
        "# Setting Seeds\n",
        "np.random.seed(42)\n",
        "tensorflow.random.set_seed(42)\n",
        "\n",
        "# Loading Datasets\n",
        "# Note: You'll have to upload the file into the \"Files\" tab each time you load up Colab for Colab to recognize the data.\n",
        "dat_1 = pd.read_csv(\"pitches_dataset_2_final.csv\", engine='python') # Connor base data that has no X's for type column\n",
        "dat_2 = pd.read_csv(\"pitches_dataset_1_final.csv\", engine='python') # Chin-yu base data\n",
        "dat_3 = pd.read_csv(\"pitches_dataset_1_final.csv\", engine='python') # Kael base data"
      ],
      "metadata": {
        "id": "2yrrIa7jctK2"
      },
      "execution_count": null,
      "outputs": []
    },
    {
      "cell_type": "code",
      "source": [
        "dat_1 = dat_1.dropna()\n",
        "dat_2 = dat_2.dropna()\n",
        "dat_3 = dat_3.dropna()"
      ],
      "metadata": {
        "id": "ETEtilRWyn-i"
      },
      "execution_count": null,
      "outputs": []
    },
    {
      "cell_type": "code",
      "source": [
        "dat_1 = dat_1.drop(columns = [\"pitch_name\", \"Unnamed: 0\"]) # forgot to ignore index when I converted df to csv so Unamed: 0 is former index column\n",
        "dat_2 = dat_2.drop(columns = [\"pitch_name\", \"Unnamed: 0\"])\n",
        "dat_3 = dat_3.drop(columns = [\"pitch_name\", \"Unnamed: 0\"])"
      ],
      "metadata": {
        "id": "psGeNAcv7dIp"
      },
      "execution_count": null,
      "outputs": []
    },
    {
      "cell_type": "code",
      "source": [
        "# Just in case we want this for making the output more readble when reporting results\n",
        "mapping_pitchname = {'FF': '4-Seam Fastball', 'SL': 'Slider', 'SI': 'Sinker', 'CH': 'Changeup', 'FC': 'Cutter', 'CU': 'Curveball', 'ST': 'Sweeper',\n",
        "                     'FS': 'Split-Finger', 'KC': 'Knuckle Curve', 'SV': 'Slurve', 'FO': 'Forkball', 'EP': 'Eephus', 'KN': 'Knuckleball'}"
      ],
      "metadata": {
        "id": "liW2kIeJQF6Y"
      },
      "execution_count": null,
      "outputs": []
    },
    {
      "cell_type": "code",
      "source": [
        "# Connor Data (won't use zone, pitch_type, plate_x, or plate_z columns)\n",
        "#mapping_pitchtype = {'FF': 0, 'SL': 1, 'SI': 2, 'CH': 3, 'FC': 4, 'CU': 5, 'ST': 6, 'FS': 7, 'KC': 8, 'SV': 9, 'FO': 10, 'EP': 11, 'KN': 12}\n",
        "mapping_stand = {'R': 0, 'L': 1}\n",
        "mapping_throw = {'R': 0, 'L': 1}\n",
        "mapping_type = {'S': 0, 'B': 1, 'X': 2}\n",
        "#dat_1['pitch_type_vector'] = dat_1[\"pitch_type\"].map(mapping_pitchtype)\n",
        "dat_1['stand_vector'] = dat_1[\"stand\"].map(mapping_stand)\n",
        "dat_1['throw_vector'] = dat_1[\"p_throws\"].map(mapping_throw)\n",
        "dat_1['type_vector'] = dat_1[\"type\"].map(mapping_type)\n",
        "\n",
        "dat_1 = dat_1.drop(columns = [\"pitch_type\", 'stand', 'p_throws', 'zone', 'plate_x', 'plate_z', 'type']) # Drop type because it was replaced with type vector"
      ],
      "metadata": {
        "id": "QCPIg-tgCa0R"
      },
      "execution_count": null,
      "outputs": []
    },
    {
      "cell_type": "code",
      "source": [
        "print(\"Number of input variables to predict 'type' (B or S):\",len(dat_1.columns)-1)"
      ],
      "metadata": {
        "colab": {
          "base_uri": "https://localhost:8080/"
        },
        "id": "gDlym25lRERR",
        "outputId": "3634a9d4-44de-4ef3-b528-bfc4394d64db"
      },
      "execution_count": null,
      "outputs": [
        {
          "output_type": "stream",
          "name": "stdout",
          "text": [
            "Number of input variables to predict 'type' (B or S): 20\n"
          ]
        }
      ]
    },
    {
      "cell_type": "code",
      "source": [
        "# Chin-yu Data (won't use type or zone columns)\n",
        "mapping_pitchtype = {'FF': 0, 'SL': 1, 'SI': 2, 'CH': 3, 'FC': 4, 'CU': 5, 'ST': 6, 'FS': 7, 'KC': 8, 'SV': 9, 'FO': 10, 'EP': 11, 'KN': 12}\n",
        "mapping_stand = {'R': 0, 'L': 1}\n",
        "mapping_throw = {'R': 0, 'L': 1}\n",
        "dat_2['pitch_type_vector'] = dat_2[\"pitch_type\"].map(mapping_pitchtype)\n",
        "dat_2['stand_vector'] = dat_2[\"stand\"].map(mapping_stand)\n",
        "dat_2['throw_vector'] = dat_2[\"p_throws\"].map(mapping_throw)\n",
        "dat_2 = dat_2.drop(columns = [\"pitch_type\", 'stand', 'p_throws','type', 'zone'])"
      ],
      "metadata": {
        "id": "tPp7ie7vGNMY"
      },
      "execution_count": null,
      "outputs": []
    },
    {
      "cell_type": "code",
      "source": [
        "dat_2.columns"
      ],
      "metadata": {
        "colab": {
          "base_uri": "https://localhost:8080/"
        },
        "id": "hEZvq6agX20b",
        "outputId": "7641284a-4925-4c54-f8e2-4f4401da3ac9"
      },
      "execution_count": null,
      "outputs": [
        {
          "output_type": "execute_result",
          "data": {
            "text/plain": [
              "Index(['release_speed', 'release_pos_x', 'release_pos_z', 'pfx_x', 'pfx_z',\n",
              "       'plate_x', 'plate_z', 'vx0', 'vy0', 'vz0', 'ax', 'ay', 'az', 'sz_top',\n",
              "       'sz_bot', 'effective_speed', 'release_spin_rate', 'release_extension',\n",
              "       'release_pos_y', 'spin_axis', 'pitch_type_vector', 'stand_vector',\n",
              "       'throw_vector'],\n",
              "      dtype='object')"
            ]
          },
          "metadata": {},
          "execution_count": 8
        }
      ]
    },
    {
      "cell_type": "code",
      "source": [
        "print(\"Number of input variables to predict 'pitch_type':\",len(dat_2.columns)-1) # NOTE the 2 extra are plate_x and plate_z"
      ],
      "metadata": {
        "colab": {
          "base_uri": "https://localhost:8080/"
        },
        "id": "5cFy6IMPTtG9",
        "outputId": "de510a35-5aaa-40a4-d105-1016aa1e03cb"
      },
      "execution_count": null,
      "outputs": [
        {
          "output_type": "stream",
          "name": "stdout",
          "text": [
            "Number of input variables to predict 'pitch_type': 22\n"
          ]
        }
      ]
    },
    {
      "cell_type": "code",
      "source": [
        "# Kael Data (won't use type, pitch_type columns, plate_x, or plate_z columns)\n",
        "mapping_stand = {'R': 0, 'L': 1}\n",
        "mapping_throw = {'R': 0, 'L': 1}\n",
        "mapping_type = {'S': 0, 'B': 1}\n",
        "# convert zone which is 1-9 for strike zone and 11-14 for balls to 0-8 for strikes and 9-12 for balls\n",
        "# has to be done for proper formatting of softmax output\n",
        "mapping_zone = {1: 0, 2: 1, 3: 2, 4: 3, 5: 4, 6: 5, 7: 6, 8: 7, 9: 8, 11: 9, 12: 10, 13: 11, 14: 12}\n",
        "\n",
        "dat_3['stand_vector'] = dat_3[\"stand\"].map(mapping_stand)\n",
        "dat_3['throw_vector'] = dat_3[\"p_throws\"].map(mapping_throw)\n",
        "dat_3['zone_vector'] = dat_3['zone'].map(mapping_zone)\n",
        "dat_3 = dat_3.drop(columns = ['stand', 'p_throws','type', 'pitch_type', 'plate_x', 'plate_z', 'zone'])"
      ],
      "metadata": {
        "id": "PHZ9X5DqHsJs"
      },
      "execution_count": null,
      "outputs": []
    },
    {
      "cell_type": "code",
      "source": [
        "print(\"Number of input variables to predict 'zone':\",len(dat_3.columns)-1)"
      ],
      "metadata": {
        "colab": {
          "base_uri": "https://localhost:8080/"
        },
        "id": "eNTMX5FuVV1d",
        "outputId": "f256ab34-af3c-4f41-a365-d2566969dc4a"
      },
      "execution_count": null,
      "outputs": [
        {
          "output_type": "stream",
          "name": "stdout",
          "text": [
            "Number of input variables to predict 'zone': 20\n"
          ]
        }
      ]
    },
    {
      "cell_type": "code",
      "source": [
        "pd.set_option('display.max_columns', None)\n",
        "mlb_dat.zone.value_counts().sum(), mlb_dat.shape"
      ],
      "metadata": {
        "colab": {
          "base_uri": "https://localhost:8080/"
        },
        "id": "NAd_I-1rdsh0",
        "outputId": "ad4d6620-9566-4c6d-8f36-be74d004669d"
      },
      "execution_count": null,
      "outputs": [
        {
          "output_type": "execute_result",
          "data": {
            "text/plain": [
              "(717675, (717945, 93))"
            ]
          },
          "metadata": {},
          "execution_count": 12
        }
      ]
    },
    {
      "cell_type": "code",
      "source": [
        "mlb_dat.type.value_counts().sum(), mlb_dat.shape"
      ],
      "metadata": {
        "colab": {
          "base_uri": "https://localhost:8080/"
        },
        "id": "MJS-PzqN6wMt",
        "outputId": "9f9da5c6-0a77-4b40-d67f-572a49cb8dbc"
      },
      "execution_count": null,
      "outputs": [
        {
          "output_type": "execute_result",
          "data": {
            "text/plain": [
              "(717945, (717945, 93))"
            ]
          },
          "metadata": {},
          "execution_count": 13
        }
      ]
    },
    {
      "cell_type": "code",
      "source": [
        "mlb_dat.pitch_type.value_counts().sum(), mlb_dat.shape"
      ],
      "metadata": {
        "id": "TOD6Mmcs6zHs",
        "outputId": "020c9890-a56f-4cc9-e123-e5d39b1313f3",
        "colab": {
          "base_uri": "https://localhost:8080/"
        }
      },
      "execution_count": null,
      "outputs": [
        {
          "output_type": "execute_result",
          "data": {
            "text/plain": [
              "(717676, (717945, 93))"
            ]
          },
          "metadata": {},
          "execution_count": 14
        }
      ]
    },
    {
      "cell_type": "code",
      "source": [
        "mlb_dat.type.value_counts()"
      ],
      "metadata": {
        "id": "ALOVLzKhE09D",
        "colab": {
          "base_uri": "https://localhost:8080/"
        },
        "outputId": "fd82c121-6cb1-4ca4-9ad8-816e3d967605"
      },
      "execution_count": null,
      "outputs": [
        {
          "output_type": "execute_result",
          "data": {
            "text/plain": [
              "type\n",
              "S    334966\n",
              "B    258745\n",
              "X    124234\n",
              "Name: count, dtype: int64"
            ]
          },
          "metadata": {},
          "execution_count": 27
        }
      ]
    },
    {
      "cell_type": "markdown",
      "source": [
        "Connor's Data"
      ],
      "metadata": {
        "id": "ws9dMgxdoz6l"
      }
    },
    {
      "cell_type": "code",
      "source": [
        "X = dat_1.drop(columns=[\"type_vector\"])\n",
        "y = dat_1[\"type_vector\"]\n",
        "\n",
        "connor_X_train, connor_X_test, connor_y_train, connor_y_test = train_test_split(X, y, test_size=0.2, random_state=42)\n",
        "\n",
        "smote = SMOTE(random_state=42)\n",
        "connor_X_train_resampled, connor_y_train_resampled = smote.fit_resample(connor_X_train, connor_y_train)"
      ],
      "metadata": {
        "id": "IXe7lKOIozRM"
      },
      "execution_count": null,
      "outputs": []
    },
    {
      "cell_type": "markdown",
      "source": [
        "Chin-yu Data"
      ],
      "metadata": {
        "id": "3VrrA3IHWoc6"
      }
    },
    {
      "cell_type": "code",
      "source": [
        "X = dat_2.drop(columns=[\"pitch_type_vector\"])\n",
        "y = dat_2[\"pitch_type_vector\"]\n",
        "\n",
        "chinyu_X_train, chinyu_X_test, chinyu_y_train, chinyu_y_test = train_test_split(X, y, test_size=0.2, random_state=42)\n",
        "\n",
        "smote = SMOTE(random_state=42)\n",
        "chinyu_X_train_resampled, chinyu_y_train_resampled = smote.fit_resample(chinyu_X_train, chinyu_y_train)"
      ],
      "metadata": {
        "id": "vg2_aGJTWd9n"
      },
      "execution_count": null,
      "outputs": []
    },
    {
      "cell_type": "markdown",
      "source": [
        "Kael's Data"
      ],
      "metadata": {
        "id": "GRafAk45qoxj"
      }
    },
    {
      "cell_type": "code",
      "source": [
        "from keras.utils import to_categorical"
      ],
      "metadata": {
        "id": "E1HYQnhveRKG"
      },
      "execution_count": null,
      "outputs": []
    },
    {
      "cell_type": "code",
      "source": [
        "X = dat_3.drop(columns=[\"zone_vector\"])\n",
        "X = X.loc[:,['release_pos_x', 'release_pos_y', 'throw_vector', 'pfx_x', 'sz_top',\n",
        "         'release_pos_z', 'release_speed', 'release_extension', 'pfx_z', 'sz_bot',\n",
        "         'release_spin_rate', 'effective_speed', 'vz0', 'az', 'stand_vector',\n",
        "         'spin_axis', 'vx0', 'vy0', 'ax', 'ay']]\n",
        "y = dat_3[\"zone_vector\"]\n",
        "y_labels = to_categorical(y, dtype =\"uint8\")\n",
        "\n",
        "num_zones = len(y.unique())\n",
        "\n",
        "kael_X_train, kael_X_test, kael_y_train, kael_y_test = train_test_split(X, y, test_size=0.2, random_state=42)\n",
        "\n",
        "smote = SMOTE(random_state=42)\n",
        "kael_X_train_resampled, kael_y_train_resampled = smote.fit_resample(kael_X_train, kael_y_train)"
      ],
      "metadata": {
        "id": "v62m8VB2qr2s"
      },
      "execution_count": null,
      "outputs": []
    },
    {
      "cell_type": "code",
      "source": [
        "len(kael_X_train)"
      ],
      "metadata": {
        "colab": {
          "base_uri": "https://localhost:8080/"
        },
        "id": "kTSHYNYQG-MI",
        "outputId": "84f0db8e-c223-4f8d-ec2b-27f85c1d07ae"
      },
      "execution_count": null,
      "outputs": [
        {
          "output_type": "execute_result",
          "data": {
            "text/plain": [
              "569537"
            ]
          },
          "metadata": {},
          "execution_count": 55
        }
      ]
    },
    {
      "cell_type": "code",
      "source": [
        "kael_X_train_DI = np.array([np.reshape(np.array(row),(-1,5)) for _,row in kael_X_train.iterrows()])"
      ],
      "metadata": {
        "id": "O6BeeMqtExBt"
      },
      "execution_count": null,
      "outputs": []
    },
    {
      "cell_type": "code",
      "source": [
        "kael_X_test_DI = np.array([np.reshape(np.array(row),(-1,5)) for _,row in kael_X_test.iterrows()])"
      ],
      "metadata": {
        "id": "wpzVWsCjMtX3"
      },
      "execution_count": null,
      "outputs": []
    },
    {
      "cell_type": "code",
      "source": [
        "kael_X_train_resampled_DI = np.array([np.reshape(np.array(row),(-1,5)) for _,row in kael_X_train_resampled.iterrows()])"
      ],
      "metadata": {
        "id": "_pgqwy9tMtMl"
      },
      "execution_count": null,
      "outputs": []
    },
    {
      "cell_type": "markdown",
      "source": [
        "\n",
        "\n",
        "---\n",
        "\n"
      ],
      "metadata": {
        "id": "tqHvz-pMlvfJ"
      }
    },
    {
      "cell_type": "markdown",
      "source": [
        "## Full Dataset (Imbalanced) Models"
      ],
      "metadata": {
        "id": "7gGFKJ8MfDhq"
      }
    },
    {
      "cell_type": "markdown",
      "source": [
        "## Predicting Pitch (Ball or Strike) (Connor)"
      ],
      "metadata": {
        "id": "Wt-ncg3hfS3W"
      }
    },
    {
      "cell_type": "markdown",
      "source": [
        "### Multi-Label Neural Net"
      ],
      "metadata": {
        "id": "26lCOvQpfLGD"
      }
    },
    {
      "cell_type": "code",
      "source": [],
      "metadata": {
        "id": "2_KkpAkEfKA3"
      },
      "execution_count": null,
      "outputs": []
    },
    {
      "cell_type": "markdown",
      "source": [
        "### Convolutional Neural Net"
      ],
      "metadata": {
        "id": "-jhFlJRdfcAF"
      }
    },
    {
      "cell_type": "code",
      "source": [],
      "metadata": {
        "id": "q_IsT7R-fj2w"
      },
      "execution_count": null,
      "outputs": []
    },
    {
      "cell_type": "markdown",
      "source": [
        "## Predicting Pitch Type (Cutter, Fastball, etc...)"
      ],
      "metadata": {
        "id": "h7DtxoB4foe_"
      }
    },
    {
      "cell_type": "markdown",
      "source": [
        "### Multi-Label Neural Net"
      ],
      "metadata": {
        "id": "V6BaOvwFlqvr"
      }
    },
    {
      "cell_type": "code",
      "source": [
        "chinyu_fnn_model = Sequential([\n",
        "    Dense(64, activation='relu', input_shape=(chinyu_X_train.shape[1],)),\n",
        "    Dense(32, activation='relu'),\n",
        "    Dense(16, activation='relu'),\n",
        "    Dense(len(y.unique()), activation='softmax')\n",
        "])\n",
        "\n",
        "chinyu_fnn_model.compile(optimizer='adam', loss='sparse_categorical_crossentropy', metrics=['accuracy'])\n",
        "history = chinyu_fnn_model.fit(chinyu_X_train, chinyu_y_train, epochs=10, batch_size=32, verbose=1, validation_split=0.1)"
      ],
      "metadata": {
        "id": "9xXGuK7vlqvr",
        "colab": {
          "base_uri": "https://localhost:8080/"
        },
        "outputId": "cdb9f372-7e1e-40b1-fee3-57ccc3ccaee3"
      },
      "execution_count": null,
      "outputs": [
        {
          "output_type": "stream",
          "name": "stdout",
          "text": [
            "Epoch 1/10\n",
            "16019/16019 [==============================] - 58s 4ms/step - loss: 1.5285 - accuracy: 0.5095 - val_loss: 0.6776 - val_accuracy: 0.7483\n",
            "Epoch 2/10\n",
            "16019/16019 [==============================] - 56s 4ms/step - loss: 0.6289 - accuracy: 0.7604 - val_loss: 0.5518 - val_accuracy: 0.7868\n",
            "Epoch 3/10\n",
            "16019/16019 [==============================] - 58s 4ms/step - loss: 0.5424 - accuracy: 0.7909 - val_loss: 0.5325 - val_accuracy: 0.7911\n",
            "Epoch 4/10\n",
            "16019/16019 [==============================] - 57s 4ms/step - loss: 0.5124 - accuracy: 0.8015 - val_loss: 0.4797 - val_accuracy: 0.8156\n",
            "Epoch 5/10\n",
            "16019/16019 [==============================] - 57s 4ms/step - loss: 0.4954 - accuracy: 0.8082 - val_loss: 0.5028 - val_accuracy: 0.8016\n",
            "Epoch 6/10\n",
            "16019/16019 [==============================] - 55s 3ms/step - loss: 0.4852 - accuracy: 0.8118 - val_loss: 0.4760 - val_accuracy: 0.8115\n",
            "Epoch 7/10\n",
            "16019/16019 [==============================] - 59s 4ms/step - loss: 0.4798 - accuracy: 0.8133 - val_loss: 0.5009 - val_accuracy: 0.8019\n",
            "Epoch 8/10\n",
            "16019/16019 [==============================] - 58s 4ms/step - loss: 0.4738 - accuracy: 0.8164 - val_loss: 0.4673 - val_accuracy: 0.8173\n",
            "Epoch 9/10\n",
            "16019/16019 [==============================] - 59s 4ms/step - loss: 0.4704 - accuracy: 0.8177 - val_loss: 0.4627 - val_accuracy: 0.8213\n",
            "Epoch 10/10\n",
            "16019/16019 [==============================] - 56s 4ms/step - loss: 0.4651 - accuracy: 0.8188 - val_loss: 0.4498 - val_accuracy: 0.8262\n"
          ]
        }
      ]
    },
    {
      "cell_type": "code",
      "source": [
        "loss, accuracy = chinyu_fnn_model.evaluate(chinyu_X_test, chinyu_y_test)\n",
        "print(\"Test Accuracy:\", accuracy)"
      ],
      "metadata": {
        "colab": {
          "base_uri": "https://localhost:8080/"
        },
        "id": "1ILGDWfVS6zc",
        "outputId": "2169f791-fd12-4af5-a4dd-c50d2725a1d8"
      },
      "execution_count": null,
      "outputs": [
        {
          "output_type": "stream",
          "name": "stdout",
          "text": [
            "4450/4450 [==============================] - 10s 2ms/step - loss: 0.4534 - accuracy: 0.8244\n",
            "Test Accuracy: 0.8243635296821594\n"
          ]
        }
      ]
    },
    {
      "cell_type": "code",
      "source": [
        "plt.plot(history.history['loss'], label='Training Loss')\n",
        "plt.plot(history.history['val_loss'], label = 'val_loss')\n",
        "plt.xlabel('Epoch')\n",
        "plt.ylabel('Loss')\n",
        "plt.title('Training Loss over Epochs')\n",
        "plt.legend()\n",
        "plt.show()"
      ],
      "metadata": {
        "colab": {
          "base_uri": "https://localhost:8080/",
          "height": 472
        },
        "id": "uLpjAzlMWs5L",
        "outputId": "ee81b575-b6cc-4b5c-bd12-62e4c797f763"
      },
      "execution_count": null,
      "outputs": [
        {
          "output_type": "display_data",
          "data": {
            "text/plain": [
              "<Figure size 640x480 with 1 Axes>"
            ],
            "image/png": "[encoded data removed]"
          },
          "metadata": {}
        }
      ]
    },
    {
      "cell_type": "markdown",
      "source": [
        "### Convolutional Neural Net"
      ],
      "metadata": {
        "id": "fic_BM1ilqvr"
      }
    },
    {
      "cell_type": "code",
      "source": [
        "chinyu_cnn_model = Sequential()\n",
        "chinyu_cnn_model.add(Conv1D(filters=32, kernel_size=3, activation='relu', input_shape=(chinyu_X_train.shape[1], 1)))\n",
        "chinyu_cnn_model.add(MaxPooling1D(pool_size=2))\n",
        "chinyu_cnn_model.add(Conv1D(filters=64, kernel_size=3, activation='relu'))\n",
        "chinyu_cnn_model.add(MaxPooling1D(pool_size=2))\n",
        "chinyu_cnn_model.add(Flatten())\n",
        "chinyu_cnn_model.add(Dense(128, activation='relu'))\n",
        "chinyu_cnn_model.add(Dense(len(y.unique()), activation='softmax'))\n",
        "\n",
        "chinyu_cnn_model.compile(optimizer='adam', loss='sparse_categorical_crossentropy', metrics=['accuracy'])\n",
        "history = chinyu_cnn_model.fit(chinyu_X_train, chinyu_y_train, epochs=10, batch_size=32, verbose=1, validation_split=0.1)"
      ],
      "metadata": {
        "id": "lhBYrCKJlqvr",
        "colab": {
          "base_uri": "https://localhost:8080/"
        },
        "outputId": "8aaa671a-4551-4157-b967-070c9d2291ad"
      },
      "execution_count": null,
      "outputs": [
        {
          "output_type": "stream",
          "name": "stdout",
          "text": [
            "Epoch 1/10\n",
            "16019/16019 [==============================] - 117s 7ms/step - loss: 0.8186 - accuracy: 0.7389 - val_loss: 0.5128 - val_accuracy: 0.7980\n",
            "Epoch 2/10\n",
            "16019/16019 [==============================] - 82s 5ms/step - loss: 0.5027 - accuracy: 0.8004 - val_loss: 0.4746 - val_accuracy: 0.8097\n",
            "Epoch 3/10\n",
            "16019/16019 [==============================] - 80s 5ms/step - loss: 0.4746 - accuracy: 0.8105 - val_loss: 0.4790 - val_accuracy: 0.8087\n",
            "Epoch 4/10\n",
            "16019/16019 [==============================] - 79s 5ms/step - loss: 0.4601 - accuracy: 0.8160 - val_loss: 0.4618 - val_accuracy: 0.8165\n",
            "Epoch 5/10\n",
            "16019/16019 [==============================] - 78s 5ms/step - loss: 0.4519 - accuracy: 0.8200 - val_loss: 0.4620 - val_accuracy: 0.8146\n",
            "Epoch 6/10\n",
            "16019/16019 [==============================] - 81s 5ms/step - loss: 0.4436 - accuracy: 0.8233 - val_loss: 0.4615 - val_accuracy: 0.8111\n",
            "Epoch 7/10\n",
            "16019/16019 [==============================] - 84s 5ms/step - loss: 0.4371 - accuracy: 0.8257 - val_loss: 0.4297 - val_accuracy: 0.8284\n",
            "Epoch 8/10\n",
            "16019/16019 [==============================] - 80s 5ms/step - loss: 0.4324 - accuracy: 0.8287 - val_loss: 0.4234 - val_accuracy: 0.8335\n",
            "Epoch 9/10\n",
            "16019/16019 [==============================] - 80s 5ms/step - loss: 0.4280 - accuracy: 0.8303 - val_loss: 0.4174 - val_accuracy: 0.8352\n",
            "Epoch 10/10\n",
            "16019/16019 [==============================] - 80s 5ms/step - loss: 0.4254 - accuracy: 0.8317 - val_loss: 0.4204 - val_accuracy: 0.8346\n"
          ]
        }
      ]
    },
    {
      "cell_type": "code",
      "source": [
        "loss, accuracy = chinyu_cnn_model.evaluate(chinyu_X_test, chinyu_y_test)\n",
        "print(\"Test Accuracy:\", accuracy)"
      ],
      "metadata": {
        "colab": {
          "base_uri": "https://localhost:8080/"
        },
        "id": "Jx0pmbX7w-tj",
        "outputId": "f46035f9-56de-49ce-acb6-52a560287854"
      },
      "execution_count": null,
      "outputs": [
        {
          "output_type": "stream",
          "name": "stdout",
          "text": [
            "4450/4450 [==============================] - 12s 3ms/step - loss: 0.4239 - accuracy: 0.8337\n",
            "Test Accuracy: 0.8337395191192627\n"
          ]
        }
      ]
    },
    {
      "cell_type": "code",
      "source": [
        "plt.plot(history.history['loss'], label='Training Loss')\n",
        "plt.plot(history.history['val_loss'], label = 'val_loss')\n",
        "plt.xlabel('Epoch')\n",
        "plt.ylabel('Loss')\n",
        "plt.title('Training Loss over Epochs')\n",
        "plt.legend()\n",
        "plt.show()"
      ],
      "metadata": {
        "colab": {
          "base_uri": "https://localhost:8080/",
          "height": 472
        },
        "id": "CiQKiiVaxblD",
        "outputId": "904fd35c-a095-4aa1-811c-eae525a4e187"
      },
      "execution_count": null,
      "outputs": [
        {
          "output_type": "display_data",
          "data": {
            "text/plain": [
              "<Figure size 640x480 with 1 Axes>"
            ],
            "image/png": "[encoded data removed]"
          },
          "metadata": {}
        }
      ]
    },
    {
      "cell_type": "markdown",
      "source": [
        "## Predicting Strikezone Area (1,2,3, etc...)"
      ],
      "metadata": {
        "id": "aRxAqQ0OfylW"
      }
    },
    {
      "cell_type": "markdown",
      "source": [
        "### Multi-Label Neural Net"
      ],
      "metadata": {
        "id": "izlOxdWElqc-"
      }
    },
    {
      "cell_type": "code",
      "source": [
        "from keras.regularizers import l2"
      ],
      "metadata": {
        "id": "DJWade4CE6en"
      },
      "execution_count": null,
      "outputs": []
    },
    {
      "cell_type": "code",
      "source": [
        "num_zones"
      ],
      "metadata": {
        "colab": {
          "base_uri": "https://localhost:8080/"
        },
        "id": "_7-yKUTWOEm8",
        "outputId": "daba1c11-960d-4cde-d394-d46a2e53857e"
      },
      "execution_count": null,
      "outputs": [
        {
          "output_type": "execute_result",
          "data": {
            "text/plain": [
              "13"
            ]
          },
          "metadata": {},
          "execution_count": 29
        }
      ]
    },
    {
      "cell_type": "markdown",
      "source": [
        "### Convolutional Neural Net w/o Deep Insight"
      ],
      "metadata": {
        "id": "dtVmC3QJlqdH"
      }
    },
    {
      "cell_type": "code",
      "source": [
        "kael_cnn_model = Sequential()\n",
        "kael_cnn_model.add(Conv1D(filters=32, kernel_size=3, activation='relu', input_shape=(kael_X_train.shape[1], 1)))\n",
        "kael_cnn_model.add(MaxPooling1D(pool_size=2))\n",
        "kael_cnn_model.add(Conv1D(filters=64, kernel_size=3, activation='relu'))\n",
        "kael_cnn_model.add(MaxPooling1D(pool_size=2))\n",
        "kael_cnn_model.add(Flatten())\n",
        "kael_cnn_model.add(Dense(128, activation='relu'))\n",
        "kael_cnn_model.add(Dense(num_zones, activation='softmax'))\n",
        "\n",
        "kael_cnn_model.compile(optimizer='adam', loss='sparse_categorical_crossentropy', metrics=['accuracy'])\n",
        "history = kael_cnn_model.fit(kael_X_train, kael_y_train, epochs=5, batch_size=32, verbose=1, validation_split=0.1)"
      ],
      "metadata": {
        "id": "9K6N-MmPlqdH",
        "colab": {
          "base_uri": "https://localhost:8080/"
        },
        "outputId": "cef69085-5cb8-4086-c097-2de34ef4ee0b"
      },
      "execution_count": null,
      "outputs": [
        {
          "output_type": "stream",
          "name": "stdout",
          "text": [
            "Epoch 1/5\n",
            "16019/16019 [==============================] - 75s 5ms/step - loss: 1.4400 - accuracy: 0.5773 - val_loss: 0.4875 - val_accuracy: 0.8031\n",
            "Epoch 2/5\n",
            "16019/16019 [==============================] - 71s 4ms/step - loss: 0.4951 - accuracy: 0.7992 - val_loss: 0.5377 - val_accuracy: 0.7690\n",
            "Epoch 3/5\n",
            "16019/16019 [==============================] - 70s 4ms/step - loss: 0.4296 - accuracy: 0.8238 - val_loss: 0.3864 - val_accuracy: 0.8419\n",
            "Epoch 4/5\n",
            "16019/16019 [==============================] - 74s 5ms/step - loss: 0.3948 - accuracy: 0.8374 - val_loss: 0.2913 - val_accuracy: 0.8847\n",
            "Epoch 5/5\n",
            "16019/16019 [==============================] - 74s 5ms/step - loss: 0.3705 - accuracy: 0.8475 - val_loss: 0.3770 - val_accuracy: 0.8398\n"
          ]
        }
      ]
    },
    {
      "cell_type": "code",
      "source": [
        "loss, accuracy = kael_cnn_model.evaluate(kael_X_test, kael_y_test)\n",
        "print(\"Test Accuracy:\", accuracy)"
      ],
      "metadata": {
        "colab": {
          "base_uri": "https://localhost:8080/"
        },
        "id": "TvGvhETsXtyI",
        "outputId": "2732ce7b-803b-4047-b1f6-d9df596765f2"
      },
      "execution_count": null,
      "outputs": [
        {
          "output_type": "stream",
          "name": "stdout",
          "text": [
            "4450/4450 [==============================] - 9s 2ms/step - loss: 0.3767 - accuracy: 0.8412\n",
            "Test Accuracy: 0.8411771059036255\n"
          ]
        }
      ]
    },
    {
      "cell_type": "markdown",
      "source": [
        "### Convolutional Neural Net with Deep Insight"
      ],
      "metadata": {
        "id": "DaCfZ9VPRQpd"
      }
    },
    {
      "cell_type": "code",
      "source": [
        "from keras.layers import Conv2D, MaxPooling2D"
      ],
      "metadata": {
        "id": "p3orfnXvPOmG"
      },
      "execution_count": null,
      "outputs": []
    },
    {
      "cell_type": "code",
      "source": [
        "# Reshape the input data to include a channel dimension\n",
        "kael_X_train_DI = kael_X_train_DI.reshape(-1, 4, 5, 1)\n",
        "kael_X_test_DI = kael_X_test_DI.reshape(-1, 4, 5, 1)"
      ],
      "metadata": {
        "id": "hbAld8WLPkiw"
      },
      "execution_count": null,
      "outputs": []
    },
    {
      "cell_type": "code",
      "source": [
        "kael_cnn_DI_model = Sequential()\n",
        "kael_cnn_DI_model.add(Conv2D(filters=32, kernel_size=(2,2), activation='relu', padding = 'same', input_shape=(4,5,1)))\n",
        "kael_cnn_DI_model.add(MaxPooling2D(pool_size=(2,2)))\n",
        "kael_cnn_DI_model.add(Conv2D(filters=64, kernel_size=(2,2), padding = 'same',activation='relu'))\n",
        "kael_cnn_DI_model.add(MaxPooling2D(pool_size=(2,2)))\n",
        "kael_cnn_DI_model.add(Flatten())\n",
        "kael_cnn_DI_model.add(Dense(128, activation='relu'))\n",
        "kael_cnn_DI_model.add(Dense(num_zones, activation='softmax'))\n",
        "\n",
        "kael_cnn_DI_model.compile(optimizer='adam', loss='sparse_categorical_crossentropy', metrics=['accuracy'])\n",
        "history = kael_cnn_DI_model.fit(kael_X_train_DI, kael_y_train, epochs=15, batch_size=32, verbose=1, validation_split=0.1)"
      ],
      "metadata": {
        "id": "tsGpkjBpRVO1",
        "colab": {
          "base_uri": "https://localhost:8080/"
        },
        "outputId": "aca8b78c-8dcd-4868-de18-ccae13be1d22"
      },
      "execution_count": null,
      "outputs": [
        {
          "output_type": "stream",
          "name": "stdout",
          "text": [
            "Epoch 1/15\n",
            "16019/16019 [==============================] - 85s 5ms/step - loss: 1.9858 - accuracy: 0.3627 - val_loss: 1.6899 - val_accuracy: 0.4019\n",
            "Epoch 2/15\n",
            "16019/16019 [==============================] - 79s 5ms/step - loss: 1.5871 - accuracy: 0.4281 - val_loss: 1.5821 - val_accuracy: 0.4301\n",
            "Epoch 3/15\n",
            "16019/16019 [==============================] - 78s 5ms/step - loss: 1.4546 - accuracy: 0.4678 - val_loss: 1.0324 - val_accuracy: 0.6160\n",
            "Epoch 4/15\n",
            "16019/16019 [==============================] - 75s 5ms/step - loss: 0.9888 - accuracy: 0.6116 - val_loss: 0.9227 - val_accuracy: 0.6288\n",
            "Epoch 5/15\n",
            "16019/16019 [==============================] - 80s 5ms/step - loss: 0.9003 - accuracy: 0.6347 - val_loss: 0.9073 - val_accuracy: 0.6294\n",
            "Epoch 6/15\n",
            "16019/16019 [==============================] - 84s 5ms/step - loss: 0.8774 - accuracy: 0.6416 - val_loss: 1.0160 - val_accuracy: 0.5938\n",
            "Epoch 7/15\n",
            "16019/16019 [==============================] - 79s 5ms/step - loss: 0.8634 - accuracy: 0.6453 - val_loss: 0.8129 - val_accuracy: 0.6641\n",
            "Epoch 8/15\n",
            "16019/16019 [==============================] - 85s 5ms/step - loss: 0.8577 - accuracy: 0.6468 - val_loss: 0.8976 - val_accuracy: 0.6214\n",
            "Epoch 9/15\n",
            "16019/16019 [==============================] - 86s 5ms/step - loss: 0.8537 - accuracy: 0.6476 - val_loss: 0.9183 - val_accuracy: 0.6213\n",
            "Epoch 10/15\n",
            "16019/16019 [==============================] - 84s 5ms/step - loss: 0.8491 - accuracy: 0.6490 - val_loss: 1.2525 - val_accuracy: 0.5563\n",
            "Epoch 11/15\n",
            "16019/16019 [==============================] - 82s 5ms/step - loss: 0.8388 - accuracy: 0.6525 - val_loss: 0.9580 - val_accuracy: 0.6196\n",
            "Epoch 12/15\n",
            "16019/16019 [==============================] - 83s 5ms/step - loss: 0.8390 - accuracy: 0.6523 - val_loss: 0.8950 - val_accuracy: 0.6304\n",
            "Epoch 13/15\n",
            "16019/16019 [==============================] - 82s 5ms/step - loss: 0.8358 - accuracy: 0.6528 - val_loss: 0.8158 - val_accuracy: 0.6575\n",
            "Epoch 14/15\n",
            "16019/16019 [==============================] - 82s 5ms/step - loss: 0.8354 - accuracy: 0.6523 - val_loss: 0.8084 - val_accuracy: 0.6623\n",
            "Epoch 15/15\n",
            "16019/16019 [==============================] - 92s 6ms/step - loss: 0.8313 - accuracy: 0.6540 - val_loss: 0.8594 - val_accuracy: 0.6445\n"
          ]
        }
      ]
    },
    {
      "cell_type": "code",
      "source": [
        "loss, accuracy = kael_cnn_DI_model.evaluate(kael_X_test_DI, kael_y_test)\n",
        "print(\"Test Accuracy:\", accuracy)"
      ],
      "metadata": {
        "colab": {
          "base_uri": "https://localhost:8080/"
        },
        "id": "y2-5gze5OaQg",
        "outputId": "1829fd20-e43a-45e4-98cb-eee40cbcd9e3"
      },
      "execution_count": null,
      "outputs": [
        {
          "output_type": "stream",
          "name": "stdout",
          "text": [
            "4450/4450 [==============================] - 13s 3ms/step - loss: 0.8622 - accuracy: 0.6436\n",
            "Test Accuracy: 0.6436001062393188\n"
          ]
        }
      ]
    },
    {
      "cell_type": "code",
      "source": [],
      "metadata": {
        "id": "J4WbESbNOZuc"
      },
      "execution_count": null,
      "outputs": []
    },
    {
      "cell_type": "markdown",
      "source": [
        "\n",
        "\n",
        "---\n",
        "\n"
      ],
      "metadata": {
        "id": "jOEoaoEtlsVY"
      }
    },
    {
      "cell_type": "markdown",
      "source": [
        "## Balanced Dataset Models\n"
      ],
      "metadata": {
        "id": "bqySRsc4gh2j"
      }
    },
    {
      "cell_type": "markdown",
      "source": [
        "## Predicting Pitch (Ball or Strike) (Connor)"
      ],
      "metadata": {
        "id": "4TLKcQs2gGie"
      }
    },
    {
      "cell_type": "markdown",
      "source": [
        "### Multi-Label Neural Net"
      ],
      "metadata": {
        "id": "-j_qxXEdgGif"
      }
    },
    {
      "cell_type": "code",
      "source": [],
      "metadata": {
        "id": "PuUV8XBMgGif"
      },
      "execution_count": null,
      "outputs": []
    },
    {
      "cell_type": "markdown",
      "source": [
        "### Convolutional Neural Net"
      ],
      "metadata": {
        "id": "TQoDjHGjgGig"
      }
    },
    {
      "cell_type": "code",
      "source": [],
      "metadata": {
        "id": "mQooeoT2gGih"
      },
      "execution_count": null,
      "outputs": []
    },
    {
      "cell_type": "markdown",
      "source": [
        "## Predicting Pitch Type (Cutter, Fastball, etc...)"
      ],
      "metadata": {
        "id": "qfGp9H9FgGih"
      }
    },
    {
      "cell_type": "markdown",
      "source": [
        "### Multi-Label Neural Net"
      ],
      "metadata": {
        "id": "s6CZWP80lfIu"
      }
    },
    {
      "cell_type": "code",
      "source": [
        "chinyu_fnn_SMOTE_model = Sequential([\n",
        "    Dense(64, activation='relu', input_shape=(chinyu_X_train_resampled.shape[1],)),\n",
        "    Dense(32, activation='relu'),\n",
        "    Dense(16, activation='relu'),\n",
        "    Dense(len(y.unique()), activation='softmax')\n",
        "])\n",
        "\n",
        "chinyu_fnn_SMOTE_model.compile(optimizer='adam', loss='sparse_categorical_crossentropy', metrics=['accuracy'])\n",
        "history = chinyu_fnn_SMOTE_model.fit(chinyu_X_train_resampled, chinyu_y_train_resampled, epochs=10, batch_size=32, verbose=1, validation_split=0.1)"
      ],
      "metadata": {
        "id": "dvCn5FzvlfIv",
        "colab": {
          "base_uri": "https://localhost:8080/"
        },
        "outputId": "25325dd1-d070-49fa-8117-fbf608580426"
      },
      "execution_count": null,
      "outputs": [
        {
          "output_type": "stream",
          "name": "stdout",
          "text": [
            "Epoch 1/10\n",
            "67215/67215 [==============================] - 190s 3ms/step - loss: 2.1399 - accuracy: 0.2115 - val_loss: 3.4609 - val_accuracy: 0.2590\n",
            "Epoch 2/10\n",
            "67215/67215 [==============================] - 177s 3ms/step - loss: 0.6232 - accuracy: 0.7516 - val_loss: 3.1523 - val_accuracy: 0.7495\n",
            "Epoch 3/10\n",
            "67215/67215 [==============================] - 178s 3ms/step - loss: 0.5449 - accuracy: 0.7833 - val_loss: 1.7682 - val_accuracy: 0.8533\n",
            "Epoch 4/10\n",
            "67215/67215 [==============================] - 174s 3ms/step - loss: 0.5030 - accuracy: 0.8023 - val_loss: 1.7867 - val_accuracy: 0.8413\n",
            "Epoch 5/10\n",
            "67215/67215 [==============================] - 180s 3ms/step - loss: 0.4715 - accuracy: 0.8178 - val_loss: 2.3848 - val_accuracy: 0.8334\n",
            "Epoch 6/10\n",
            "67215/67215 [==============================] - 188s 3ms/step - loss: 0.4553 - accuracy: 0.8251 - val_loss: 1.6246 - val_accuracy: 0.9362\n",
            "Epoch 7/10\n",
            "67215/67215 [==============================] - 177s 3ms/step - loss: 0.4431 - accuracy: 0.8300 - val_loss: 1.8006 - val_accuracy: 0.8954\n",
            "Epoch 8/10\n",
            "67215/67215 [==============================] - 182s 3ms/step - loss: 0.4352 - accuracy: 0.8340 - val_loss: 1.5233 - val_accuracy: 0.9395\n",
            "Epoch 9/10\n",
            "67215/67215 [==============================] - 168s 3ms/step - loss: 0.4303 - accuracy: 0.8358 - val_loss: 3.7191 - val_accuracy: 0.7217\n",
            "Epoch 10/10\n",
            "67215/67215 [==============================] - 169s 3ms/step - loss: 0.4275 - accuracy: 0.8368 - val_loss: 3.4354 - val_accuracy: 0.7626\n"
          ]
        }
      ]
    },
    {
      "cell_type": "code",
      "source": [
        "loss, accuracy = chinyu_fnn_SMOTE_model.evaluate(chinyu_X_test, chinyu_y_test)\n",
        "print(\"Test Accuracy:\", accuracy)"
      ],
      "metadata": {
        "colab": {
          "base_uri": "https://localhost:8080/"
        },
        "id": "SbMamYp8Ur7C",
        "outputId": "46fc031a-7c0e-4f48-a94b-350b6b985779"
      },
      "execution_count": null,
      "outputs": [
        {
          "output_type": "stream",
          "name": "stdout",
          "text": [
            "4450/4450 [==============================] - 10s 2ms/step - loss: 0.5298 - accuracy: 0.7888\n",
            "Test Accuracy: 0.7888190746307373\n"
          ]
        }
      ]
    },
    {
      "cell_type": "code",
      "source": [
        "plt.plot(history.history['loss'], label='Training Loss')\n",
        "plt.plot(history.history['val_loss'], label = 'val_loss')\n",
        "plt.xlabel('Epoch')\n",
        "plt.ylabel('Loss')\n",
        "plt.title('Training Loss over Epochs')\n",
        "plt.legend()\n",
        "plt.show()"
      ],
      "metadata": {
        "colab": {
          "base_uri": "https://localhost:8080/",
          "height": 472
        },
        "id": "LH3pYTBlYz-b",
        "outputId": "dbb593bc-0bf4-4101-c498-c308121d8855"
      },
      "execution_count": null,
      "outputs": [
        {
          "output_type": "display_data",
          "data": {
            "text/plain": [
              "<Figure size 640x480 with 1 Axes>"
            ],
            "image/png": "[encoded data removed]"
          },
          "metadata": {}
        }
      ]
    },
    {
      "cell_type": "markdown",
      "source": [
        "### Convolutional Neural Net"
      ],
      "metadata": {
        "id": "i1TKtg4alfIv"
      }
    },
    {
      "cell_type": "code",
      "source": [
        "chinyu_cnn_SMOTE_model = Sequential()\n",
        "chinyu_cnn_SMOTE_model.add(Conv1D(filters=32, kernel_size=3, activation='relu', input_shape=(chinyu_X_train_resampled.shape[1], 1)))\n",
        "chinyu_cnn_SMOTE_model.add(MaxPooling1D(pool_size=2))\n",
        "chinyu_cnn_SMOTE_model.add(Conv1D(filters=64, kernel_size=3, activation='relu'))\n",
        "chinyu_cnn_SMOTE_model.add(MaxPooling1D(pool_size=2))\n",
        "chinyu_cnn_SMOTE_model.add(Flatten())\n",
        "chinyu_cnn_SMOTE_model.add(Dense(128, activation='relu'))\n",
        "chinyu_cnn_SMOTE_model.add(Dense(len(y.unique()), activation='softmax'))\n",
        "\n",
        "chinyu_cnn_SMOTE_model.compile(optimizer='adam', loss='sparse_categorical_crossentropy', metrics=['accuracy'])\n",
        "history = chinyu_cnn_SMOTE_model.fit(chinyu_X_train_resampled, chinyu_y_train_resampled, epochs=10, batch_size=32, verbose=1, validation_split=0.1)"
      ],
      "metadata": {
        "id": "lQWH4iFclfI4",
        "colab": {
          "base_uri": "https://localhost:8080/"
        },
        "outputId": "f4727c4d-89f4-4265-f674-de18b7a3f4f3"
      },
      "execution_count": null,
      "outputs": [
        {
          "output_type": "stream",
          "name": "stdout",
          "text": [
            "Epoch 1/10\n",
            "67215/67215 [==============================] - 335s 5ms/step - loss: 0.6145 - accuracy: 0.7674 - val_loss: 1.3039 - val_accuracy: 0.8615\n",
            "Epoch 2/10\n",
            "67215/67215 [==============================] - 337s 5ms/step - loss: 0.4514 - accuracy: 0.8213 - val_loss: 0.8598 - val_accuracy: 0.9167\n",
            "Epoch 3/10\n",
            "67215/67215 [==============================] - 336s 5ms/step - loss: 0.4255 - accuracy: 0.8326 - val_loss: 1.0898 - val_accuracy: 0.8802\n",
            "Epoch 4/10\n",
            "67215/67215 [==============================] - 337s 5ms/step - loss: 0.4088 - accuracy: 0.8398 - val_loss: 1.5234 - val_accuracy: 0.8907\n",
            "Epoch 5/10\n",
            "67215/67215 [==============================] - 344s 5ms/step - loss: 0.3986 - accuracy: 0.8442 - val_loss: 1.4880 - val_accuracy: 0.8818\n",
            "Epoch 6/10\n",
            "67215/67215 [==============================] - 338s 5ms/step - loss: 0.3914 - accuracy: 0.8473 - val_loss: 1.1385 - val_accuracy: 0.9338\n",
            "Epoch 7/10\n",
            "67215/67215 [==============================] - 347s 5ms/step - loss: 0.3856 - accuracy: 0.8497 - val_loss: 1.1964 - val_accuracy: 0.9109\n",
            "Epoch 8/10\n",
            "67215/67215 [==============================] - 352s 5ms/step - loss: 0.3812 - accuracy: 0.8517 - val_loss: 1.2338 - val_accuracy: 0.8999\n",
            "Epoch 9/10\n",
            "67215/67215 [==============================] - 369s 5ms/step - loss: 0.3793 - accuracy: 0.8524 - val_loss: 1.8548 - val_accuracy: 0.8993\n",
            "Epoch 10/10\n",
            "67215/67215 [==============================] - 367s 5ms/step - loss: 0.3763 - accuracy: 0.8535 - val_loss: 1.7911 - val_accuracy: 0.8762\n"
          ]
        }
      ]
    },
    {
      "cell_type": "code",
      "source": [
        "loss, accuracy = chinyu_cnn_SMOTE_model.evaluate(chinyu_X_test, chinyu_y_test)\n",
        "print(\"Test Accuracy:\", accuracy, loss)"
      ],
      "metadata": {
        "colab": {
          "base_uri": "https://localhost:8080/"
        },
        "id": "IX4Y9qWCx1A7",
        "outputId": "d73aa69e-91d2-4d61-896a-0bea198cce3f"
      },
      "execution_count": null,
      "outputs": [
        {
          "output_type": "stream",
          "name": "stdout",
          "text": [
            "4450/4450 [==============================] - 11s 3ms/step - loss: 0.4772 - accuracy: 0.8127\n",
            "Test Accuracy: 0.8127120137214661\n"
          ]
        }
      ]
    },
    {
      "cell_type": "code",
      "source": [
        "plt.plot(history.history['loss'], label='Training Loss')\n",
        "plt.plot(history.history['val_loss'], label = 'val_loss')\n",
        "plt.xlabel('Epoch')\n",
        "plt.ylabel('Loss')\n",
        "plt.title('Training Loss over Epochs')\n",
        "plt.legend()\n",
        "plt.show()"
      ],
      "metadata": {
        "colab": {
          "base_uri": "https://localhost:8080/",
          "height": 472
        },
        "id": "r5uaVVBAx0v_",
        "outputId": "065dc103-6579-4e7f-cc40-2456b487f1dd"
      },
      "execution_count": null,
      "outputs": [
        {
          "output_type": "display_data",
          "data": {
            "text/plain": [
              "<Figure size 640x480 with 1 Axes>"
            ],
            "image/png": "[encoded data removed]"
          },
          "metadata": {}
        }
      ]
    },
    {
      "cell_type": "markdown",
      "source": [
        "## Predicting Strikezone Area (1,2,3, etc...)"
      ],
      "metadata": {
        "id": "sgY8UdnhgGii"
      }
    },
    {
      "cell_type": "markdown",
      "source": [
        "### Multi-Label Neural Net"
      ],
      "metadata": {
        "id": "jTtqA6INlfyS"
      }
    },
    {
      "cell_type": "code",
      "source": [
        "kael_y_train_resampled[0:5]"
      ],
      "metadata": {
        "colab": {
          "base_uri": "https://localhost:8080/"
        },
        "id": "FV6zQXRIlqPU",
        "outputId": "47b94b53-4786-4539-cf54-e440f55f998e"
      },
      "execution_count": null,
      "outputs": [
        {
          "output_type": "execute_result",
          "data": {
            "text/plain": [
              "array([[0, 0, 0, 0, 0, 0, 1, 0, 0, 0, 0, 0, 0],\n",
              "       [0, 0, 0, 0, 0, 0, 0, 0, 0, 0, 0, 0, 1],\n",
              "       [0, 0, 0, 0, 0, 0, 0, 0, 0, 0, 0, 1, 0],\n",
              "       [0, 0, 0, 0, 0, 0, 0, 0, 0, 0, 1, 0, 0],\n",
              "       [0, 0, 0, 0, 0, 0, 0, 0, 0, 0, 0, 1, 0]])"
            ]
          },
          "metadata": {},
          "execution_count": 76
        }
      ]
    },
    {
      "cell_type": "code",
      "source": [
        "kael_ffnn_SMOTE_model = Sequential([\n",
        "    Dense(64, activation='relu', input_shape=(kael_X_train.shape[1],)),\n",
        "    Dense(32, activation='relu'),\n",
        "    Dense(16, activation='relu'),\n",
        "    Dense(kael_y_train.shape[1], activation='softmax')\n",
        "])\n",
        "\n",
        "kael_ffnn_SMOTE_model.compile(optimizer='adam', loss='categorical_crossentropy', metrics=['accuracy'])\n",
        "history = kael_ffnn_SMOTE_model.fit(kael_X_train_resampled, kael_y_train_resampled, epochs=5, batch_size=64, verbose=1, validation_split=0.2)"
      ],
      "metadata": {
        "id": "HhYSvJ1JlfyY",
        "colab": {
          "base_uri": "https://localhost:8080/"
        },
        "outputId": "53ceee7e-3098-40ea-eaee-b7214e55003f"
      },
      "execution_count": null,
      "outputs": [
        {
          "output_type": "stream",
          "name": "stdout",
          "text": [
            "Epoch 1/5\n",
            "17240/17240 [==============================] - 82s 5ms/step - loss: 2.6375 - accuracy: 0.0969 - val_loss: 3.2030 - val_accuracy: 0.0000e+00\n",
            "Epoch 2/5\n",
            "17240/17240 [==============================] - 60s 3ms/step - loss: 2.5009 - accuracy: 0.0966 - val_loss: 3.2021 - val_accuracy: 0.0000e+00\n",
            "Epoch 3/5\n",
            "17240/17240 [==============================] - 59s 3ms/step - loss: 2.5009 - accuracy: 0.0965 - val_loss: 3.2107 - val_accuracy: 0.0000e+00\n",
            "Epoch 4/5\n",
            "17240/17240 [==============================] - 59s 3ms/step - loss: 2.5009 - accuracy: 0.0959 - val_loss: 3.2002 - val_accuracy: 0.0000e+00\n",
            "Epoch 5/5\n",
            "17240/17240 [==============================] - 52s 3ms/step - loss: 2.5009 - accuracy: 0.0961 - val_loss: 3.1909 - val_accuracy: 0.0000e+00\n"
          ]
        }
      ]
    },
    {
      "cell_type": "code",
      "source": [
        "loss, accuracy = kael_ffnn_SMOTE_model.evaluate(kael_X_test, kael_y_test)\n",
        "print(\"Test Accuracy:\", accuracy)"
      ],
      "metadata": {
        "colab": {
          "base_uri": "https://localhost:8080/"
        },
        "id": "h-gv3dw8l_j_",
        "outputId": "3fd2eaee-2d56-4d46-84f1-8617813f043d"
      },
      "execution_count": null,
      "outputs": [
        {
          "output_type": "stream",
          "name": "stdout",
          "text": [
            "4450/4450 [==============================] - 10s 2ms/step - loss: 2.6434 - accuracy: 0.0424\n",
            "Test Accuracy: 0.04240615293383598\n"
          ]
        }
      ]
    },
    {
      "cell_type": "code",
      "source": [
        "predictions = kael_ffnn_SMOTE_model.predict(kael_X_test)\n",
        "zone_preds = [np.argmax(pred) for pred in predictions]\n",
        "\n",
        "mapping_zone_vector = {0: 1, 1: 2, 2: 3, 3: 4, 4: 5, 5: 6, 6: 7, 7: 8, 8: 9, 9: 11, 10: 12, 11: 13, 12: 14}"
      ],
      "metadata": {
        "colab": {
          "base_uri": "https://localhost:8080/"
        },
        "id": "x5FUJuKzmAbm",
        "outputId": "8431a9da-d461-4422-f5d3-78aa3197a6ea"
      },
      "execution_count": null,
      "outputs": [
        {
          "output_type": "stream",
          "name": "stdout",
          "text": [
            "4450/4450 [==============================] - 10s 2ms/step\n"
          ]
        }
      ]
    },
    {
      "cell_type": "code",
      "source": [
        "# predicting all pitches to end up in zone 14\n",
        "pd.Series(zone_preds).map(mapping_zone_vector).value_counts()"
      ],
      "metadata": {
        "colab": {
          "base_uri": "https://localhost:8080/"
        },
        "id": "CSOY9V4cmBnC",
        "outputId": "53b674a4-ae42-4b0d-c7ae-aae41b195c19"
      },
      "execution_count": null,
      "outputs": [
        {
          "output_type": "execute_result",
          "data": {
            "text/plain": [
              "1    142385\n",
              "Name: count, dtype: int64"
            ]
          },
          "metadata": {},
          "execution_count": 80
        }
      ]
    },
    {
      "cell_type": "markdown",
      "source": [
        "### Convolutional Neural Net w/o Deep Insight"
      ],
      "metadata": {
        "id": "AQdNSbjrlfyY"
      }
    },
    {
      "cell_type": "code",
      "source": [
        "kael_X_train_resampled.shape[1]"
      ],
      "metadata": {
        "colab": {
          "base_uri": "https://localhost:8080/"
        },
        "id": "dVBmEnF6ec_b",
        "outputId": "1521d3d3-dced-4f70-e827-25a57994f998"
      },
      "execution_count": null,
      "outputs": [
        {
          "output_type": "execute_result",
          "data": {
            "text/plain": [
              "20"
            ]
          },
          "metadata": {},
          "execution_count": 13
        }
      ]
    },
    {
      "cell_type": "code",
      "source": [
        "kael_cnn_SMOTE_model = Sequential()\n",
        "kael_cnn_SMOTE_model.add(Conv1D(filters=32, kernel_size=3, activation='relu', input_shape=(kael_X_train_resampled.shape[1], 1)))\n",
        "kael_cnn_SMOTE_model.add(MaxPooling1D(pool_size=2))\n",
        "kael_cnn_SMOTE_model.add(Conv1D(filters=64, kernel_size=3, activation='relu'))\n",
        "kael_cnn_SMOTE_model.add(MaxPooling1D(pool_size=2))\n",
        "kael_cnn_SMOTE_model.add(Flatten())\n",
        "kael_cnn_SMOTE_model.add(Dense(128, activation='relu'))\n",
        "kael_cnn_SMOTE_model.add(Dense(num_zones, activation='softmax'))\n",
        "\n",
        "kael_cnn_SMOTE_model.compile(optimizer='adam', loss='sparse_categorical_crossentropy', metrics=['accuracy'])\n",
        "history = kael_cnn_SMOTE_model.fit(kael_X_train_resampled, kael_y_train_resampled, epochs=5, batch_size=32, verbose=1, validation_split=0.1)"
      ],
      "metadata": {
        "id": "ugpD_7GZlfyY",
        "colab": {
          "base_uri": "https://localhost:8080/"
        },
        "outputId": "9e5cc855-e104-48f3-ecfa-61e85c418cd5"
      },
      "execution_count": null,
      "outputs": [
        {
          "output_type": "stream",
          "name": "stdout",
          "text": [
            "Epoch 1/5\n",
            "38790/38790 [==============================] - 187s 5ms/step - loss: 0.9342 - accuracy: 0.6843 - val_loss: 0.4077 - val_accuracy: 0.8394\n",
            "Epoch 2/5\n",
            "38790/38790 [==============================] - 175s 4ms/step - loss: 0.3768 - accuracy: 0.8529 - val_loss: 0.3421 - val_accuracy: 0.8665\n",
            "Epoch 3/5\n",
            "38790/38790 [==============================] - 173s 4ms/step - loss: 0.3141 - accuracy: 0.8773 - val_loss: 0.4718 - val_accuracy: 0.8407\n",
            "Epoch 4/5\n",
            "38790/38790 [==============================] - 175s 5ms/step - loss: 0.2791 - accuracy: 0.8908 - val_loss: 0.4035 - val_accuracy: 0.8647\n",
            "Epoch 5/5\n",
            "38790/38790 [==============================] - 175s 5ms/step - loss: 0.2604 - accuracy: 0.8981 - val_loss: 0.5140 - val_accuracy: 0.8392\n"
          ]
        }
      ]
    },
    {
      "cell_type": "code",
      "source": [
        "loss, accuracy = kael_cnn_SMOTE_model.evaluate(kael_X_test, kael_y_test)\n",
        "print(\"Test Accuracy:\", accuracy)"
      ],
      "metadata": {
        "colab": {
          "base_uri": "https://localhost:8080/"
        },
        "id": "AjucV3alerCa",
        "outputId": "a2d6583d-145f-4865-ef1d-d96b190c78cf"
      },
      "execution_count": null,
      "outputs": [
        {
          "output_type": "stream",
          "name": "stdout",
          "text": [
            "4450/4450 [==============================] - 22s 5ms/step - loss: 0.3868 - accuracy: 0.8476\n",
            "Test Accuracy: 0.847596287727356\n"
          ]
        }
      ]
    },
    {
      "cell_type": "code",
      "source": [
        "plt.plot(history.history['loss'], label='Training Loss')\n",
        "plt.plot(history.history['val_loss'], label = 'val_loss')\n",
        "plt.xlabel('Epoch')\n",
        "plt.ylabel('Loss')\n",
        "plt.title('Training Loss over Epochs')\n",
        "plt.legend()\n",
        "plt.show()"
      ],
      "metadata": {
        "id": "4xupnJ7EjGIO",
        "outputId": "b6536a20-83ff-452f-8e13-a24e85838fb3",
        "colab": {
          "base_uri": "https://localhost:8080/",
          "height": 472
        }
      },
      "execution_count": null,
      "outputs": [
        {
          "output_type": "display_data",
          "data": {
            "text/plain": [
              "<Figure size 640x480 with 1 Axes>"
            ],
            "image/png": "[encoded data removed]"
          },
          "metadata": {}
        }
      ]
    },
    {
      "cell_type": "markdown",
      "source": [
        "### Convolutional Neural Net with Deep Insight"
      ],
      "metadata": {
        "id": "IRAvFwWlcNXU"
      }
    },
    {
      "cell_type": "code",
      "source": [
        "kael_X_train_resampled_DI = kael_X_train_resampled_DI.reshape(-1, 4, 5, 1)\n",
        "#kael_X_test_DI = kael_X_test_DI.reshape(-1, 4, 5, 1)"
      ],
      "metadata": {
        "id": "WgRk07zbcL7f"
      },
      "execution_count": null,
      "outputs": []
    },
    {
      "cell_type": "code",
      "source": [
        "kael_cnn_SMOTE_DI_model = Sequential()\n",
        "kael_cnn_SMOTE_DI_model.add(Conv2D(filters=32, kernel_size=(2,2), activation='relu', padding = 'same', input_shape=(4,5,1)))\n",
        "kael_cnn_SMOTE_DI_model.add(MaxPooling2D(pool_size=(2,2)))\n",
        "kael_cnn_SMOTE_DI_model.add(Conv2D(filters=64, kernel_size=(2,2), padding = 'same',activation='relu'))\n",
        "kael_cnn_SMOTE_DI_model.add(MaxPooling2D(pool_size=(2,2)))\n",
        "kael_cnn_SMOTE_DI_model.add(Flatten())\n",
        "kael_cnn_SMOTE_DI_model.add(Dense(128, activation='relu'))\n",
        "kael_cnn_SMOTE_DI_model.add(Dense(num_zones, activation='softmax'))\n",
        "\n",
        "kael_cnn_SMOTE_DI_model.compile(optimizer='adam', loss='sparse_categorical_crossentropy', metrics=['accuracy'])\n",
        "history = kael_cnn_SMOTE_DI_model.fit(kael_X_train_resampled_DI, kael_y_train_resampled, epochs=15, batch_size=64, verbose=1, validation_split=0.1)"
      ],
      "metadata": {
        "colab": {
          "base_uri": "https://localhost:8080/"
        },
        "id": "kDtG5nqYcM70",
        "outputId": "7fc07388-70aa-4f84-89af-6ee97721cf64"
      },
      "execution_count": null,
      "outputs": [
        {
          "output_type": "stream",
          "name": "stdout",
          "text": [
            "Epoch 1/15\n",
            "19395/19395 [==============================] - 121s 6ms/step - loss: 2.0167 - accuracy: 0.2986 - val_loss: 1.6920 - val_accuracy: 0.3623\n",
            "Epoch 2/15\n",
            "19395/19395 [==============================] - 123s 6ms/step - loss: 1.6453 - accuracy: 0.3831 - val_loss: 2.0142 - val_accuracy: 0.2918\n",
            "Epoch 3/15\n",
            "19395/19395 [==============================] - 118s 6ms/step - loss: 1.6214 - accuracy: 0.3910 - val_loss: 1.8234 - val_accuracy: 0.3341\n",
            "Epoch 4/15\n",
            "19395/19395 [==============================] - 115s 6ms/step - loss: 1.6113 - accuracy: 0.3938 - val_loss: 1.4090 - val_accuracy: 0.4573\n",
            "Epoch 5/15\n",
            "19395/19395 [==============================] - 119s 6ms/step - loss: 1.6029 - accuracy: 0.3970 - val_loss: 1.6342 - val_accuracy: 0.3539\n",
            "Epoch 6/15\n",
            "19395/19395 [==============================] - 114s 6ms/step - loss: 1.5967 - accuracy: 0.3990 - val_loss: 1.6518 - val_accuracy: 0.3857\n",
            "Epoch 7/15\n",
            "19395/19395 [==============================] - 114s 6ms/step - loss: 1.5925 - accuracy: 0.4001 - val_loss: 1.6296 - val_accuracy: 0.3608\n",
            "Epoch 8/15\n",
            "19395/19395 [==============================] - 116s 6ms/step - loss: 1.5879 - accuracy: 0.4014 - val_loss: 1.6690 - val_accuracy: 0.3687\n",
            "Epoch 9/15\n",
            "19395/19395 [==============================] - 115s 6ms/step - loss: 1.5856 - accuracy: 0.4021 - val_loss: 1.5018 - val_accuracy: 0.4267\n",
            "Epoch 10/15\n",
            "19395/19395 [==============================] - 116s 6ms/step - loss: 1.5832 - accuracy: 0.4028 - val_loss: 1.5841 - val_accuracy: 0.3988\n",
            "Epoch 11/15\n",
            "19395/19395 [==============================] - 106s 5ms/step - loss: 1.5808 - accuracy: 0.4037 - val_loss: 1.7208 - val_accuracy: 0.3549\n",
            "Epoch 12/15\n",
            "19395/19395 [==============================] - 113s 6ms/step - loss: 1.5794 - accuracy: 0.4044 - val_loss: 1.5906 - val_accuracy: 0.3794\n",
            "Epoch 13/15\n",
            "19395/19395 [==============================] - 110s 6ms/step - loss: 1.5778 - accuracy: 0.4048 - val_loss: 1.5483 - val_accuracy: 0.4005\n",
            "Epoch 14/15\n",
            "19395/19395 [==============================] - 117s 6ms/step - loss: 1.5771 - accuracy: 0.4050 - val_loss: 1.8157 - val_accuracy: 0.3106\n",
            "Epoch 15/15\n",
            "19395/19395 [==============================] - 113s 6ms/step - loss: 1.5757 - accuracy: 0.4050 - val_loss: 1.9362 - val_accuracy: 0.3058\n"
          ]
        }
      ]
    },
    {
      "cell_type": "code",
      "source": [
        "loss, accuracy = kael_cnn_SMOTE_DI_model.evaluate(kael_X_test_DI, kael_y_test)\n",
        "print(\"Test Accuracy:\", accuracy)"
      ],
      "metadata": {
        "colab": {
          "base_uri": "https://localhost:8080/"
        },
        "id": "w2mNdAijcMwA",
        "outputId": "54ed13b3-fa83-4518-a7ad-69b15dad13a4"
      },
      "execution_count": null,
      "outputs": [
        {
          "output_type": "stream",
          "name": "stdout",
          "text": [
            "4450/4450 [==============================] - 15s 3ms/step - loss: 1.6646 - accuracy: 0.3956\n",
            "Test Accuracy: 0.3955543041229248\n"
          ]
        }
      ]
    }
  ]
}